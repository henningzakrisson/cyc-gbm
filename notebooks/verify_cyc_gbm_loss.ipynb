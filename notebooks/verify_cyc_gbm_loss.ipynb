{
 "cells": [
  {
   "cell_type": "code",
   "execution_count": 1,
   "metadata": {
    "collapsed": true
   },
   "outputs": [],
   "source": [
    "import numpy as np\n",
    "import matplotlib.pyplot as plt\n",
    "from src.cyc_gbm import CycGBM\n",
    "from scipy.optimize import minimize"
   ]
  },
  {
   "cell_type": "code",
   "execution_count": 2,
   "outputs": [],
   "source": [
    "# Simulator\n",
    "def simulator(z):\n",
    "    mu = np.exp(z[0])\n",
    "    l = np.exp(z[1])\n",
    "    return np.random.wald(mu, l)\n",
    "\n",
    "\n",
    "# Parameter functions (0:th index in x is constant)\n",
    "def z_function(x):\n",
    "    z0 = 0.003 * x[:, 1] * x[:, 2] * x[:, 3] + 0.3 * np.abs(x[:, 4])\n",
    "    z1 = 1 + 0.3 * (x[:, 1] > 0) + 0.5 * x[:, 2] * (x[:, 5] > 0)\n",
    "    return np.stack([z0, z1])\n",
    "\n",
    "\n",
    "# Simulate\n",
    "n = 100000\n",
    "p = 9\n",
    "X = np.concatenate([np.ones((1, n)), np.random.normal(0, 1, (p - 1, n))]).T\n",
    "z = z_function(X)\n",
    "y = simulator(z)"
   ],
   "metadata": {
    "collapsed": false
   }
  },
  {
   "cell_type": "code",
   "execution_count": 3,
   "outputs": [],
   "source": [
    "# Set hyperparameters\n",
    "kappa = [30, 38]\n",
    "max_depth = 3\n",
    "min_samples_leaf = 5\n",
    "eps = [0.1, 0.1]"
   ],
   "metadata": {
    "collapsed": false
   }
  },
  {
   "cell_type": "code",
   "execution_count": 4,
   "outputs": [],
   "source": [
    "gbm = CycGBM(\n",
    "    kappa=kappa,\n",
    "    eps=eps,\n",
    "    max_depth=max_depth,\n",
    "    min_samples_leaf=min_samples_leaf,\n",
    "    dist=\"inv_gauss\",\n",
    ")\n",
    "gbm.fit(X, y)\n",
    "z_hat_new = gbm.predict(X)"
   ],
   "metadata": {
    "collapsed": false
   }
  },
  {
   "cell_type": "code",
   "execution_count": 5,
   "outputs": [],
   "source": [
    "# Conversion to old structure\n",
    "zOpt = gbm.z0\n",
    "BOpts = kappa\n",
    "BOpt = max(kappa)\n",
    "d = 2\n",
    "epsilon = eps"
   ],
   "metadata": {
    "collapsed": false
   }
  },
  {
   "cell_type": "code",
   "execution_count": 6,
   "outputs": [],
   "source": [
    "# Distribution dependent\n",
    "from scipy.special import polygamma as pg\n",
    "from scipy.special import loggamma as lg\n",
    "\n",
    "\n",
    "# Loss function\n",
    "def lossEval(z, y):\n",
    "    return gbm.dist.calculate_loss(z=z, y=y)\n",
    "\n",
    "\n",
    "# Gradients\n",
    "def grad0(z, y):\n",
    "    return gbm.dist.calculate_grad(z=z, y=y, j=0)\n",
    "\n",
    "\n",
    "def grad1(z, y):\n",
    "    return gbm.dist.calculate_grad(z=z, y=y, j=1)\n",
    "\n",
    "\n",
    "# Gradient list\n",
    "grads = [grad0, grad1]"
   ],
   "metadata": {
    "collapsed": false
   }
  },
  {
   "cell_type": "code",
   "execution_count": 7,
   "outputs": [],
   "source": [
    "# Setup\n",
    "from sklearn.tree import DecisionTreeRegressor as regressionTree\n",
    "\n",
    "\n",
    "# Tree fitting function\n",
    "def trainTree(z, y, x, grad, max_depth, min_samples_leaf):\n",
    "    tree = regressionTree(max_depth=max_depth, min_samples_leaf=min_samples_leaf)\n",
    "    g = grad(z, y)\n",
    "    tree.fit(x, -g)\n",
    "    return tree\n",
    "\n",
    "\n",
    "# Dimension indicator for score adding\n",
    "e = [np.stack([[0]] * j + [[1]] + [[0]] * (d - j - 1)) for j in range(0, d)]\n",
    "\n",
    "\n",
    "# Local tree training function\n",
    "def trainThisTree(z, y, x, grad, max_depth, min_samples_leaf):\n",
    "    return trainTree(\n",
    "        z=z, y=y, x=x, grad=grad, max_depth=max_depth, min_samples_leaf=min_samples_leaf\n",
    "    )"
   ],
   "metadata": {
    "collapsed": false
   }
  },
  {
   "cell_type": "code",
   "execution_count": 8,
   "outputs": [],
   "source": [
    "# Training and validation data\n",
    "xTrain, yTrain = X, y\n",
    "xValid, yValid = X, y\n",
    "nTrain, nValid = len(yTrain), len(yValid)\n",
    "\n",
    "# Initiate score\n",
    "zTrain = zOpt.repeat(nTrain).reshape((d, nTrain))\n",
    "zValid = zOpt.repeat(nValid).reshape((d, nValid))\n",
    "\n",
    "trees = [[[]] * BOpts[0], [[]] * BOpts[1]]\n",
    "\n",
    "# Build trees\n",
    "for b in range(0, BOpt):\n",
    "    # For all parameter dimensions\n",
    "    for j in range(0, d):\n",
    "        if b < BOpts[j]:\n",
    "            # Fit a tree\n",
    "            tree = trainThisTree(\n",
    "                zTrain,\n",
    "                yTrain,\n",
    "                xTrain,\n",
    "                grads[j],\n",
    "                max_depth=max_depth,\n",
    "                min_samples_leaf=min_samples_leaf,\n",
    "            )\n",
    "\n",
    "            # Score updates\n",
    "            zTrainPlus = tree.predict(xTrain)\n",
    "            zValidPlus = tree.predict(xValid)\n",
    "\n",
    "            # Look at all unique node values\n",
    "            nodeValues = np.unique(zTrainPlus)\n",
    "            for nodeValue in nodeValues:\n",
    "                # Indices with this node value\n",
    "                indicesTrain = zTrainPlus == nodeValue\n",
    "                indicesValid = zValidPlus == nodeValue\n",
    "                # Optimize step size\n",
    "                gammaOpt = minimize(\n",
    "                    lambda gamma: lossEval(\n",
    "                        z=zTrain[:, indicesTrain] + e[j] * gamma, y=yTrain[indicesTrain]\n",
    "                    ).sum(),\n",
    "                    x0=nodeValue,\n",
    "                )[\"x\"][0]\n",
    "                # Manipulate node values\n",
    "                zTrainPlus[indicesTrain] = gammaOpt\n",
    "                zValidPlus[indicesValid] = gammaOpt\n",
    "                tree.tree_.value[tree.tree_.value == nodeValue] = gammaOpt\n",
    "\n",
    "            # Update score\n",
    "            zTrain[j] += epsilon[j] * zTrainPlus\n",
    "            zValid[j] += epsilon[j] * zValidPlus\n",
    "\n",
    "            # Update trees\n",
    "            trees[j][b] = tree"
   ],
   "metadata": {
    "collapsed": false
   }
  },
  {
   "cell_type": "code",
   "execution_count": 9,
   "outputs": [],
   "source": [
    "# Assume two dimensions\n",
    "z_hat_old = zOpt.repeat(nTrain).reshape((d, nTrain))\n",
    "for j in [0, 1]:\n",
    "    z_hat_j = epsilon[j] * sum([tree.predict(X) for tree in trees[j]])\n",
    "    z_hat_old[j] += z_hat_j"
   ],
   "metadata": {
    "collapsed": false
   }
  },
  {
   "cell_type": "code",
   "execution_count": 53,
   "outputs": [
    {
     "name": "stdout",
     "output_type": "stream",
     "text": [
      "intercept loss: 204.63\n",
      "old model loss: -14666.63\n",
      "new model loss: -14666.63\n"
     ]
    }
   ],
   "source": [
    "print(f\"intercept loss: {gbm.dist.calculate_loss(y = y, z =gbm.z0).sum().round(2)}\")\n",
    "print(f\"old model loss: {gbm.dist.calculate_loss(y = y, z = z_hat_old).sum().round(2)}\")\n",
    "print(f\"new model loss: {gbm.dist.calculate_loss(y = y, z = z_hat_new).sum().round(2)}\")"
   ],
   "metadata": {
    "collapsed": false
   }
  },
  {
   "cell_type": "code",
   "execution_count": 17,
   "outputs": [
    {
     "data": {
      "text/plain": "[<matplotlib.lines.Line2D at 0x7fc3f6bf8580>]"
     },
     "execution_count": 17,
     "metadata": {},
     "output_type": "execute_result"
    },
    {
     "data": {
      "text/plain": "<Figure size 640x480 with 1 Axes>",
      "image/png": "[encoded data removed]"
     },
     "metadata": {},
     "output_type": "display_data"
    }
   ],
   "source": [
    "sort_order = np.argsort(z_hat_new[0])\n",
    "plt.plot(z_hat_new[0][sort_order])\n",
    "plt.plot(z[0][sort_order])"
   ],
   "metadata": {
    "collapsed": false
   }
  },
  {
   "cell_type": "code",
   "execution_count": 18,
   "outputs": [
    {
     "data": {
      "text/plain": "[<matplotlib.lines.Line2D at 0x7fc3f6475f10>]"
     },
     "execution_count": 18,
     "metadata": {},
     "output_type": "execute_result"
    },
    {
     "data": {
      "text/plain": "<Figure size 640x480 with 1 Axes>",
      "image/png": "[encoded data removed]"
     },
     "metadata": {},
     "output_type": "display_data"
    }
   ],
   "source": [
    "sort_order = np.argsort(z_hat_new[1])\n",
    "plt.plot(z_hat_new[1][sort_order])\n",
    "plt.plot(z[1][sort_order])"
   ],
   "metadata": {
    "collapsed": false
   }
  },
  {
   "cell_type": "code",
   "execution_count": 19,
   "outputs": [
    {
     "data": {
      "text/plain": "array([[0.25266557],\n       [0.99795367]])"
     },
     "execution_count": 19,
     "metadata": {},
     "output_type": "execute_result"
    }
   ],
   "source": [
    "gbm.z0\n"
   ],
   "metadata": {
    "collapsed": false
   }
  }
 ],
 "metadata": {
  "kernelspec": {
   "display_name": "Python 3",
   "language": "python",
   "name": "python3"
  },
  "language_info": {
   "codemirror_mode": {
    "name": "ipython",
    "version": 2
   },
   "file_extension": ".py",
   "mimetype": "text/x-python",
   "name": "python",
   "nbconvert_exporter": "python",
   "pygments_lexer": "ipython2",
   "version": "2.7.6"
  }
 },
 "nbformat": 4,
 "nbformat_minor": 0
}
