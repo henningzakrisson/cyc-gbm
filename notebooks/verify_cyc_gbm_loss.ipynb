{
 "cells": [
  {
   "cell_type": "code",
   "execution_count": 23,
   "metadata": {
    "collapsed": true
   },
   "outputs": [],
   "source": [
    "import numpy as np\n",
    "import matplotlib.pyplot as plt\n",
    "from src.cyc_gbm import CycGBM, tune_kappa\n",
    "from sklearn.model_selection import KFold\n",
    "from scipy.optimize import minimize\n",
    "from src.distribution import Distribution"
   ]
  },
  {
   "cell_type": "code",
   "execution_count": 24,
   "outputs": [],
   "source": [
    "n = 100\n",
    "expected_loss = 641.9173857564037\n",
    "rng = np.random.default_rng(seed=10)\n",
    "X0 = np.arange(0, n)\n",
    "X1 = np.arange(0, n)\n",
    "rng.shuffle(X1)\n",
    "mu = 10 * (X0 > 0.3 * n) + 5 * (X1 > 0.5 * n)\n",
    "sigma = np.exp(1 + 1 * (X0 < 0.4 * n))\n",
    "max_depth = 2\n",
    "min_samples_leaf = 20\n",
    "\n",
    "X = np.stack([X0, X1]).T\n",
    "y = rng.normal(mu, sigma)\n",
    "\n",
    "kappas = [100, 10]\n",
    "eps = 0.1"
   ],
   "metadata": {
    "collapsed": false
   }
  },
  {
   "cell_type": "code",
   "execution_count": 25,
   "outputs": [
    {
     "name": "stdout",
     "output_type": "stream",
     "text": [
      "187.46122289939993\n"
     ]
    }
   ],
   "source": [
    "gbm = CycGBM(kappa=kappas, eps=eps, max_depth = max_depth, min_samples_leaf=min_samples_leaf)\n",
    "gbm.train(X, y)\n",
    "z_hat = gbm.predict(X)\n",
    "\n",
    "loss = gbm.dist.loss(z_hat, y).sum()\n",
    "print(loss)"
   ],
   "metadata": {
    "collapsed": false
   }
  },
  {
   "cell_type": "code",
   "execution_count": 26,
   "outputs": [],
   "source": [
    "# Conversion to old structure\n",
    "zOpt = gbm.z0\n",
    "BOpts = kappas\n",
    "BOpt = max(kappas)\n",
    "d = 2\n",
    "epsilon = [eps]*d"
   ],
   "metadata": {
    "collapsed": false
   }
  },
  {
   "cell_type": "code",
   "execution_count": 27,
   "outputs": [],
   "source": [
    "# Distribution dependent\n",
    "# Loss function\n",
    "def lossEval(z,y):\n",
    "    loss = z[1] + 0.5*np.exp(-2*z[1])*(y-z[0])**2\n",
    "    return loss\n",
    "\n",
    "# Gradients\n",
    "def grad0(z,y):\n",
    "    grad = -np.exp(-2*z[1])*(y-z[0])\n",
    "    return grad\n",
    "\n",
    "def grad1(z,y):\n",
    "    grad = 1-np.exp(-2*z[1])*(y-z[0])**2\n",
    "    return grad\n",
    "\n",
    "# Gradient list\n",
    "grads = [grad0,grad1]"
   ],
   "metadata": {
    "collapsed": false
   }
  },
  {
   "cell_type": "code",
   "execution_count": 28,
   "outputs": [],
   "source": [
    "# Setup\n",
    "from sklearn.tree import DecisionTreeRegressor as regressionTree\n",
    "# Tree fitting function\n",
    "def trainTree(z, y, x, grad, max_depth, min_samples_leaf):\n",
    "    tree = regressionTree(max_depth = max_depth, min_samples_leaf = min_samples_leaf)\n",
    "    g = grad(z,y)\n",
    "    tree.fit(x,-g)\n",
    "    return tree\n",
    "\n",
    "# Dimension indicator for score adding\n",
    "e = [np.stack([[0]]*j+[[1]] +[[0]]*(d-j-1)) for j in range(0,d)]\n",
    "\n",
    "# Local tree training function\n",
    "def trainThisTree(z, y, x, grad, max_depth = max_depth, min_samples_leaf = min_samples_leaf):\n",
    "    return trainTree(z,y,x,grad,max_depth,min_samples_leaf)"
   ],
   "metadata": {
    "collapsed": false
   }
  },
  {
   "cell_type": "code",
   "execution_count": 29,
   "outputs": [],
   "source": [
    "# Training and validation data\n",
    "xTrain, yTrain = X, y\n",
    "xValid, yValid = X, y\n",
    "nTrain, nValid = len(yTrain), len(yValid)\n",
    "\n",
    "# Initiate score\n",
    "zTrain = zOpt.repeat(nTrain).reshape((d,nTrain))\n",
    "zValid = zOpt.repeat(nValid).reshape((d,nValid))\n",
    "\n",
    "# Build trees\n",
    "for b in range(1,BOpt):\n",
    "    # For all parameter dimensions\n",
    "    for j in range(0,d):\n",
    "        if b<=BOpts[j]:\n",
    "            # Fit a tree\n",
    "            tree = trainThisTree(zTrain,yTrain,xTrain,grads[j])\n",
    "\n",
    "            # Score updates\n",
    "            zTrainPlus = tree.predict(xTrain)\n",
    "            zValidPlus = tree.predict(xValid)\n",
    "\n",
    "            # Look at all unique node values\n",
    "            nodeValues = np.unique(zTrainPlus)\n",
    "            for k,nodeValue in enumerate(nodeValues):\n",
    "                # Indices with this node value\n",
    "                indicesTrain = zTrainPlus==nodeValue\n",
    "                indicesValid = zValidPlus==nodeValue\n",
    "                # Optimize step size\n",
    "                gammaOpt = minimize(lambda gamma: lossEval(zTrain[:,indicesTrain] + e[j]*gamma,yTrain[indicesTrain]).sum(),\n",
    "                                    jac = lambda gamma: (grads[j](zTrain[:,indicesTrain] + e[j]*gamma,yTrain[indicesTrain])).sum(),\n",
    "                                    x0 = nodeValue)['x'][0]\n",
    "                # Manipulate node values\n",
    "                zTrainPlus[indicesTrain] = gammaOpt\n",
    "                zValidPlus[indicesValid] = gammaOpt\n",
    "\n",
    "            # Update score\n",
    "            zTrain[j] += epsilon[j]*zTrainPlus\n",
    "            zValid[j] += epsilon[j]*zValidPlus\n",
    "\n"
   ],
   "metadata": {
    "collapsed": false
   }
  },
  {
   "cell_type": "code",
   "execution_count": 32,
   "outputs": [
    {
     "data": {
      "text/plain": "186.88283733605098"
     },
     "execution_count": 32,
     "metadata": {},
     "output_type": "execute_result"
    }
   ],
   "source": [
    "lossEval(zValid, yValid).sum()\n"
   ],
   "metadata": {
    "collapsed": false
   }
  }
 ],
 "metadata": {
  "kernelspec": {
   "display_name": "Python 3",
   "language": "python",
   "name": "python3"
  },
  "language_info": {
   "codemirror_mode": {
    "name": "ipython",
    "version": 2
   },
   "file_extension": ".py",
   "mimetype": "text/x-python",
   "name": "python",
   "nbconvert_exporter": "python",
   "pygments_lexer": "ipython2",
   "version": "2.7.6"
  }
 },
 "nbformat": 4,
 "nbformat_minor": 0
}
