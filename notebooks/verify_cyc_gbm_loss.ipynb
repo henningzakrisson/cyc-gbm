{
 "cells": [
  {
   "cell_type": "code",
   "execution_count": null,
   "metadata": {
    "collapsed": true,
    "pycharm": {
     "is_executing": true
    }
   },
   "outputs": [],
   "source": [
    "import numpy as np\n",
    "import matplotlib.pyplot as plt\n",
    "from src.cyc_gbm import CycGBM\n",
    "from scipy.optimize import minimize"
   ]
  },
  {
   "cell_type": "code",
   "execution_count": 2,
   "outputs": [],
   "source": [
    "n = 1000\n",
    "rng = np.random.default_rng(seed=10)\n",
    "X0 = np.arange(0, n) / n\n",
    "X1 = np.arange(0, n) / n\n",
    "rng.shuffle(X1)\n",
    "mu = np.exp(1 * (X0 > 0.3 * n) + 0.5 * (X1 > 0.5 * n))\n",
    "v = np.exp(1 + 1 * X0 - 3 * np.abs(X1))\n",
    "\n",
    "X = np.stack([X0, X1]).T\n",
    "alpha = mu * (1 + v)\n",
    "beta = v + 2\n",
    "y0 = rng.beta(alpha, beta)\n",
    "y = y0 / (1 - y0)\n",
    "\n",
    "max_depth = 2\n",
    "min_samples_leaf = 20\n",
    "eps = [0.1, 0.1]\n",
    "kappa = [20, 100]"
   ],
   "metadata": {
    "collapsed": false
   }
  },
  {
   "cell_type": "code",
   "execution_count": 3,
   "outputs": [],
   "source": [
    "gbm = CycGBM(\n",
    "    kappa=kappa,\n",
    "    eps=eps,\n",
    "    max_depth=max_depth,\n",
    "    min_samples_leaf=min_samples_leaf,\n",
    "    dist=\"beta_prime\",\n",
    ")\n",
    "gbm.fit(X, y)\n",
    "z_hat_new = gbm.predict(X)"
   ],
   "metadata": {
    "collapsed": false
   }
  },
  {
   "cell_type": "code",
   "execution_count": 4,
   "outputs": [],
   "source": [
    "# Conversion to old structure\n",
    "zOpt = gbm.z0\n",
    "BOpts = kappa\n",
    "BOpt = max(kappa)\n",
    "d = 2\n",
    "epsilon = eps"
   ],
   "metadata": {
    "collapsed": false
   }
  },
  {
   "cell_type": "code",
   "execution_count": 5,
   "outputs": [],
   "source": [
    "# Distribution dependent\n",
    "from scipy.special import polygamma as pg\n",
    "from scipy.special import loggamma as lg\n",
    "\n",
    "\n",
    "# Loss function\n",
    "def lossEval(z, y):\n",
    "    return gbm.dist.loss(z=z, y=y)\n",
    "\n",
    "\n",
    "# Gradients\n",
    "def grad0(z, y):\n",
    "    return gbm.dist.grad(z=z, y=y, j=0)\n",
    "\n",
    "\n",
    "def grad1(z, y):\n",
    "    return gbm.dist.grad(z=z, y=y, j=1)\n",
    "\n",
    "\n",
    "# Gradient list\n",
    "grads = [grad0, grad1]"
   ],
   "metadata": {
    "collapsed": false
   }
  },
  {
   "cell_type": "code",
   "execution_count": 6,
   "outputs": [],
   "source": [
    "# Setup\n",
    "from sklearn.tree import DecisionTreeRegressor as regressionTree\n",
    "\n",
    "\n",
    "# Tree fitting function\n",
    "def trainTree(z, y, x, grad, max_depth, min_samples_leaf):\n",
    "    tree = regressionTree(max_depth=max_depth, min_samples_leaf=min_samples_leaf)\n",
    "    g = grad(z, y)\n",
    "    tree.fit(x, -g)\n",
    "    return tree\n",
    "\n",
    "\n",
    "# Dimension indicator for score adding\n",
    "e = [np.stack([[0]] * j + [[1]] + [[0]] * (d - j - 1)) for j in range(0, d)]\n",
    "\n",
    "\n",
    "# Local tree training function\n",
    "def trainThisTree(z, y, x, grad, max_depth, min_samples_leaf):\n",
    "    return trainTree(\n",
    "        z=z, y=y, x=x, grad=grad, max_depth=max_depth, min_samples_leaf=min_samples_leaf\n",
    "    )"
   ],
   "metadata": {
    "collapsed": false
   }
  },
  {
   "cell_type": "code",
   "execution_count": 7,
   "outputs": [],
   "source": [
    "from src.distributions import opt_step_numeric"
   ],
   "metadata": {
    "collapsed": false
   }
  },
  {
   "cell_type": "code",
   "execution_count": 8,
   "outputs": [],
   "source": [
    "# Training and validation data\n",
    "xTrain, yTrain = X, y\n",
    "xValid, yValid = X, y\n",
    "nTrain, nValid = len(yTrain), len(yValid)\n",
    "\n",
    "# Initiate score\n",
    "zTrain = zOpt.repeat(nTrain).reshape((d, nTrain))\n",
    "zValid = zOpt.repeat(nValid).reshape((d, nValid))\n",
    "\n",
    "trees = [[[]] * BOpts[0], [[]] * BOpts[1]]\n",
    "\n",
    "# Build trees\n",
    "for b in range(0, BOpt):\n",
    "    # For all parameter dimensions\n",
    "    for j in range(0, d):\n",
    "        if b < BOpts[j]:\n",
    "            # Fit a tree\n",
    "            tree = trainThisTree(\n",
    "                zTrain,\n",
    "                yTrain,\n",
    "                xTrain,\n",
    "                grads[j],\n",
    "                max_depth=max_depth,\n",
    "                min_samples_leaf=min_samples_leaf,\n",
    "            )\n",
    "\n",
    "            # Score updates\n",
    "            zTrainPlus = tree.predict(xTrain)\n",
    "            zValidPlus = tree.predict(xValid)\n",
    "\n",
    "            # Look at all unique node values\n",
    "            nodeValues = np.unique(zTrainPlus)\n",
    "            for nodeValue in nodeValues:\n",
    "                # Indices with this node value\n",
    "                indicesTrain = zTrainPlus == nodeValue\n",
    "                indicesValid = zValidPlus == nodeValue\n",
    "                # Optimize step size\n",
    "                gammaOpt = minimize(\n",
    "                    lambda gamma: lossEval(\n",
    "                        z=zTrain[:, indicesTrain] + e[j] * gamma, y=yTrain[indicesTrain]\n",
    "                    ).sum(),\n",
    "                    x0=nodeValue,\n",
    "                )[\"x\"][0]\n",
    "                # Manipulate node values\n",
    "                zTrainPlus[indicesTrain] = gammaOpt\n",
    "                zValidPlus[indicesValid] = gammaOpt\n",
    "                tree.tree_.value[tree.tree_.value == nodeValue] = gammaOpt\n",
    "\n",
    "            # Update score\n",
    "            zTrain[j] += epsilon[j] * zTrainPlus\n",
    "            zValid[j] += epsilon[j] * zValidPlus\n",
    "\n",
    "            # Update trees\n",
    "            trees[j][b] = tree"
   ],
   "metadata": {
    "collapsed": false
   }
  },
  {
   "cell_type": "code",
   "execution_count": 9,
   "outputs": [],
   "source": [
    "# Assume two dimensions\n",
    "z_hat_old = zOpt.repeat(nTrain).reshape((d, nTrain))\n",
    "for j in [0, 1]:\n",
    "    z_hat_j = epsilon[j] * sum([tree.predict(X) for tree in trees[j]])\n",
    "    z_hat_old[j] += z_hat_j"
   ],
   "metadata": {
    "collapsed": false
   }
  },
  {
   "cell_type": "code",
   "execution_count": 10,
   "outputs": [
    {
     "name": "stdout",
     "output_type": "stream",
     "text": [
      "old model loss: 121.23\n",
      "new model loss: 121.23\n"
     ]
    }
   ],
   "source": [
    "print(f\"old model loss: {gbm.dist.loss(z_hat_old,y).sum().round(2)}\")\n",
    "print(f\"new model loss: {gbm.dist.loss(z_hat_new,y).sum().round(2)}\")"
   ],
   "metadata": {
    "collapsed": false
   }
  },
  {
   "cell_type": "code",
   "execution_count": 15,
   "outputs": [
    {
     "data": {
      "text/plain": "121.22775641886105"
     },
     "execution_count": 15,
     "metadata": {},
     "output_type": "execute_result"
    }
   ],
   "source": [
    "gbm.dist.loss(z_hat_old, y).sum()"
   ],
   "metadata": {
    "collapsed": false
   }
  },
  {
   "cell_type": "code",
   "execution_count": 10,
   "outputs": [],
   "source": [],
   "metadata": {
    "collapsed": false
   }
  },
  {
   "cell_type": "code",
   "execution_count": 11,
   "outputs": [
    {
     "data": {
      "text/plain": "5"
     },
     "execution_count": 11,
     "metadata": {},
     "output_type": "execute_result"
    }
   ],
   "source": [
    "gbm.trees[0][-1].tree_.node_count"
   ],
   "metadata": {
    "collapsed": false
   }
  },
  {
   "cell_type": "code",
   "execution_count": 12,
   "outputs": [
    {
     "data": {
      "text/plain": "5"
     },
     "execution_count": 12,
     "metadata": {},
     "output_type": "execute_result"
    }
   ],
   "source": [
    "trees[0][-1].tree_.node_count"
   ],
   "metadata": {
    "collapsed": false
   }
  },
  {
   "cell_type": "code",
   "execution_count": 13,
   "outputs": [
    {
     "data": {
      "text/plain": "(2, 1)"
     },
     "execution_count": 13,
     "metadata": {},
     "output_type": "execute_result"
    }
   ],
   "source": [
    "e[1].shape"
   ],
   "metadata": {
    "collapsed": false
   }
  },
  {
   "cell_type": "code",
   "execution_count": 14,
   "outputs": [
    {
     "data": {
      "text/plain": "(2, 1)"
     },
     "execution_count": 14,
     "metadata": {},
     "output_type": "execute_result"
    }
   ],
   "source": [
    "np.array([[0, 1]]).T.shape"
   ],
   "metadata": {
    "collapsed": false
   }
  }
 ],
 "metadata": {
  "kernelspec": {
   "display_name": "Python 3",
   "language": "python",
   "name": "python3"
  },
  "language_info": {
   "codemirror_mode": {
    "name": "ipython",
    "version": 2
   },
   "file_extension": ".py",
   "mimetype": "text/x-python",
   "name": "python",
   "nbconvert_exporter": "python",
   "pygments_lexer": "ipython2",
   "version": "2.7.6"
  }
 },
 "nbformat": 4,
 "nbformat_minor": 0
}
