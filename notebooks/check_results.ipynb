{
 "cells": [
  {
   "cell_type": "code",
   "execution_count": 15,
   "metadata": {
    "collapsed": true
   },
   "outputs": [],
   "source": [
    "import pandas as pd\n",
    "import numpy as np"
   ]
  },
  {
   "cell_type": "code",
   "execution_count": 52,
   "outputs": [
    {
     "data": {
      "text/plain": "22486.83473657464"
     },
     "execution_count": 52,
     "metadata": {},
     "output_type": "execute_result"
    }
   ],
   "source": [
    "folder_path = '/home/heza7322/PycharmProjects/c-gbm/data/results/real_data'\n",
    "run_id = 14\n",
    "data_set = 'claim_amounts'\n",
    "\n",
    "losses = np.load(f'{folder_path}/run_{run_id}/{data_set}/losses.npz', allow_pickle=True)\n",
    "\n",
    "# Load the train and test losses into one commong dataframe\n",
    "df_losses = pd.DataFrame()\n",
    "models = losses['train'].item().keys()\n",
    "for model in models:\n",
    "    df_losses[f'train_{model}'] = losses['train'].item()[model].sum()\n",
    "    df_losses[f'test_{model}'] = losses['test'].item()[model].sum()\n",
    "\n",
    "losses['train'].item()[model].sum()\n"
   ],
   "metadata": {
    "collapsed": false
   }
  }
 ],
 "metadata": {
  "kernelspec": {
   "display_name": "Python 3",
   "language": "python",
   "name": "python3"
  },
  "language_info": {
   "codemirror_mode": {
    "name": "ipython",
    "version": 2
   },
   "file_extension": ".py",
   "mimetype": "text/x-python",
   "name": "python",
   "nbconvert_exporter": "python",
   "pygments_lexer": "ipython2",
   "version": "2.7.6"
  }
 },
 "nbformat": 4,
 "nbformat_minor": 0
}
