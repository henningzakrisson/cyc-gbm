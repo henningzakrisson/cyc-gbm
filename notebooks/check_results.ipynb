{
 "cells": [
  {
   "cell_type": "code",
   "execution_count": 2,
   "metadata": {
    "collapsed": true
   },
   "outputs": [],
   "source": [
    "import pandas as pd\n",
    "import numpy as np"
   ]
  },
  {
   "cell_type": "code",
   "execution_count": 22,
   "outputs": [
    {
     "data": {
      "text/plain": "           train  test\nintercept   1.23  1.25\ncyc-gbm     1.19  1.21",
      "text/html": "<div>\n<style scoped>\n    .dataframe tbody tr th:only-of-type {\n        vertical-align: middle;\n    }\n\n    .dataframe tbody tr th {\n        vertical-align: top;\n    }\n\n    .dataframe thead th {\n        text-align: right;\n    }\n</style>\n<table border=\"1\" class=\"dataframe\">\n  <thead>\n    <tr style=\"text-align: right;\">\n      <th></th>\n      <th>train</th>\n      <th>test</th>\n    </tr>\n  </thead>\n  <tbody>\n    <tr>\n      <th>intercept</th>\n      <td>1.23</td>\n      <td>1.25</td>\n    </tr>\n    <tr>\n      <th>cyc-gbm</th>\n      <td>1.19</td>\n      <td>1.21</td>\n    </tr>\n  </tbody>\n</table>\n</div>"
     },
     "execution_count": 22,
     "metadata": {},
     "output_type": "execute_result"
    }
   ],
   "source": [
    "folder_path = '../data/results/real_data'\n",
    "run_id = 1\n",
    "data_set = 'claim_amounts'\n",
    "\n",
    "losses = np.load(f'{folder_path}/run_{run_id}/{data_set}/losses.npz', allow_pickle=True)\n",
    "\n",
    "models = losses['train'].item().keys()\n",
    "df_loss = pd.DataFrame(columns=['train', 'test'], index = models)\n",
    "for data_set in ['train', 'test']:\n",
    "    for model in models:\n",
    "        df_loss.loc[model, data_set] = losses[data_set].item()[model].mean()\n",
    "\n",
    "df_loss.astype(float).round(2)"
   ],
   "metadata": {
    "collapsed": false
   }
  }
 ],
 "metadata": {
  "kernelspec": {
   "display_name": "Python 3",
   "language": "python",
   "name": "python3"
  },
  "language_info": {
   "codemirror_mode": {
    "name": "ipython",
    "version": 2
   },
   "file_extension": ".py",
   "mimetype": "text/x-python",
   "name": "python",
   "nbconvert_exporter": "python",
   "pygments_lexer": "ipython2",
   "version": "2.7.6"
  }
 },
 "nbformat": 4,
 "nbformat_minor": 0
}
