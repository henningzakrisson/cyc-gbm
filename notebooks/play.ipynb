{
 "cells": [
  {
   "cell_type": "code",
   "execution_count": 1,
   "metadata": {
    "collapsed": true
   },
   "outputs": [],
   "source": [
    "from src.cyc_gbm.distributions import Distribution, initiate_dist\n",
    "import numpy as np"
   ]
  },
  {
   "cell_type": "code",
   "execution_count": 2,
   "outputs": [
    {
     "name": "stdout",
     "output_type": "stream",
     "text": [
      "\n",
      "        Calculates the loss of the parameter estimates and the response.\n",
      "\n",
      "        :param z: The predicted parameters.\n",
      "        :param y: The target values.\n",
      "        :return: The loss function value(s) for the given `z` and `y`.\n",
      "        \n"
     ]
    }
   ],
   "source": [
    "normal_dist = initiate_dist(dist=\"normal\")\n",
    "print(normal_dist.loss.__doc__)"
   ],
   "metadata": {
    "collapsed": false
   }
  },
  {
   "cell_type": "code",
   "execution_count": 3,
   "outputs": [
    {
     "data": {
      "text/plain": "<src.cyc_gbm.distributions.NormalDistribution at 0x7f18aa8770d0>"
     },
     "execution_count": 3,
     "metadata": {},
     "output_type": "execute_result"
    }
   ],
   "source": [
    "normal_dist"
   ],
   "metadata": {
    "collapsed": false
   }
  },
  {
   "cell_type": "code",
   "execution_count": 4,
   "outputs": [
    {
     "data": {
      "text/plain": "array([-10.        ,   1.06766764,   1.27067057])"
     },
     "execution_count": 4,
     "metadata": {},
     "output_type": "execute_result"
    }
   ],
   "source": [
    "normal_dist.loss(y=np.array([1, 2, 3]), z=np.array([[1, 1, 1], [-10, 1, 1]]))"
   ],
   "metadata": {
    "collapsed": false
   }
  },
  {
   "cell_type": "code",
   "execution_count": 5,
   "outputs": [
    {
     "data": {
      "text/plain": "array([[   1,    1,    1],\n       [1000,    1,    1]])"
     },
     "execution_count": 5,
     "metadata": {},
     "output_type": "execute_result"
    }
   ],
   "source": [
    "np.array([[1, 1, 1], [1000, 1, 1]])"
   ],
   "metadata": {
    "collapsed": false
   }
  },
  {
   "cell_type": "code",
   "execution_count": 6,
   "outputs": [
    {
     "name": "stdout",
     "output_type": "stream",
     "text": [
      "\n",
      "        Calculates the loss of the parameter estimates and the response.\n",
      "\n",
      "        :param z: The predicted parameters.\n",
      "        :param y: The target values.\n",
      "        :return: The loss function value(s) for the given `z` and `y`.\n",
      "        \n"
     ]
    }
   ],
   "source": [
    "print(normal_dist.loss.__doc__)"
   ],
   "metadata": {
    "collapsed": false
   }
  },
  {
   "cell_type": "code",
   "execution_count": 7,
   "outputs": [
    {
     "name": "stdout",
     "output_type": "stream",
     "text": [
      "\n",
      "        Calculates the loss of the parameter estimates and the response.\n",
      "\n",
      "        :param z: The predicted parameters.\n",
      "        :param y: The target values.\n",
      "        :return: The loss function value(s) for the given `z` and `y`.\n",
      "        \n"
     ]
    }
   ],
   "source": [
    "dist = Distribution()\n",
    "print(dist.loss.__doc__)"
   ],
   "metadata": {
    "collapsed": false
   }
  },
  {
   "cell_type": "code",
   "execution_count": 8,
   "outputs": [
    {
     "name": "stdout",
     "output_type": "stream",
     "text": [
      "\n",
      "        Calculates the gradients of the loss function with respect to the parameters.\n",
      "\n",
      "        :param z: The predicted parameters.\n",
      "        :param y: The target values.\n",
      "        :param j: The parameter dimension to compute the gradient for (default=0).\n",
      "        :return: The gradient(s) of the loss function for the given `z`, `y`, and `j`.\n",
      "        \n"
     ]
    }
   ],
   "source": [
    "print(normal_dist.grad.__doc__)"
   ],
   "metadata": {
    "collapsed": false
   }
  }
 ],
 "metadata": {
  "kernelspec": {
   "display_name": "Python 3",
   "language": "python",
   "name": "python3"
  },
  "language_info": {
   "codemirror_mode": {
    "name": "ipython",
    "version": 2
   },
   "file_extension": ".py",
   "mimetype": "text/x-python",
   "name": "python",
   "nbconvert_exporter": "python",
   "pygments_lexer": "ipython2",
   "version": "2.7.6"
  }
 },
 "nbformat": 4,
 "nbformat_minor": 0
}
