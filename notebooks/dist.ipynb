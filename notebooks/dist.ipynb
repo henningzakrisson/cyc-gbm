{
 "cells": [
  {
   "cell_type": "code",
   "execution_count": 14,
   "metadata": {
    "collapsed": true
   },
   "outputs": [
    {
     "name": "stdout",
     "output_type": "stream",
     "text": [
      "\n",
      "        Calculates the loss of the parameter estimates and the response.\n",
      "\n",
      "        :param z: The predicted parameters.\n",
      "        :param y: The target values.\n",
      "        :return: The loss function value(s) for the given `z` and `y`.\n",
      "        \n"
     ]
    }
   ],
   "source": [
    "from src.distributions import NormalDistribution, Distribution\n",
    "\n",
    "norm_dist = Distribution()\n",
    "\n",
    "print(norm_dist.loss.__doc__)\n"
   ]
  }
 ],
 "metadata": {
  "kernelspec": {
   "display_name": "Python 3",
   "language": "python",
   "name": "python3"
  },
  "language_info": {
   "codemirror_mode": {
    "name": "ipython",
    "version": 2
   },
   "file_extension": ".py",
   "mimetype": "text/x-python",
   "name": "python",
   "nbconvert_exporter": "python",
   "pygments_lexer": "ipython2",
   "version": "2.7.6"
  }
 },
 "nbformat": 4,
 "nbformat_minor": 0
}
