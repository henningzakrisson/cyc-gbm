{
 "cells": [
  {
   "cell_type": "code",
   "execution_count": 27,
   "metadata": {
    "collapsed": true
   },
   "outputs": [],
   "source": [
    "import numpy as np\n"
   ]
  },
  {
   "cell_type": "code",
   "execution_count": 42,
   "outputs": [],
   "source": [
    "\n",
    "def add_at_j(a: np.ndarray,b: float,j: int):\n",
    "    \"\"\" Function to add value b to the j:th index of the second dimension of a\n",
    "\n",
    "    :param a: numpy array of size (2,n)\n",
    "    :param b: float to add\n",
    "    :param j: index to add b to, 0 <= j < 2\n",
    "    \"\"\"\n",
    "    if j == 0:\n",
    "        e = np.array([[1, 0]]).T\n",
    "    elif j == 1:\n",
    "        e = np.array([[0, 1]]).T\n",
    "\n",
    "    return a + e * b\n"
   ],
   "metadata": {
    "collapsed": false
   }
  },
  {
   "cell_type": "code",
   "execution_count": 48,
   "outputs": [
    {
     "data": {
      "text/plain": "array([[1., 1., 1., 1., 1., 1.],\n       [0., 0., 0., 0., 0., 0.]])"
     },
     "execution_count": 48,
     "metadata": {},
     "output_type": "execute_result"
    }
   ],
   "source": [
    "a = np.zeros((2,6))\n",
    "add_at_j(\n",
    "    a = a,\n",
    "    b = 1,\n",
    "    j = 0\n",
    ")\n"
   ],
   "metadata": {
    "collapsed": false
   }
  },
  {
   "cell_type": "code",
   "execution_count": 60,
   "outputs": [
    {
     "data": {
      "text/plain": "(2, 1)"
     },
     "execution_count": 60,
     "metadata": {},
     "output_type": "execute_result"
    }
   ],
   "source": [
    "j = 1\n",
    "np.eye(2)[:, 1:2].shape\n"
   ],
   "metadata": {
    "collapsed": false
   }
  }
 ],
 "metadata": {
  "kernelspec": {
   "display_name": "Python 3",
   "language": "python",
   "name": "python3"
  },
  "language_info": {
   "codemirror_mode": {
    "name": "ipython",
    "version": 2
   },
   "file_extension": ".py",
   "mimetype": "text/x-python",
   "name": "python",
   "nbconvert_exporter": "python",
   "pygments_lexer": "ipython2",
   "version": "2.7.6"
  }
 },
 "nbformat": 4,
 "nbformat_minor": 0
}
